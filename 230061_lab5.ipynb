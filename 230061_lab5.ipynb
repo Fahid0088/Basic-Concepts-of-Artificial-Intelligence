{
 "cells": [
  {
   "cell_type": "markdown",
   "id": "3cef6632-ab4a-4989-a2a5-518d50b6969f",
   "metadata": {},
   "source": [
    "# Task1"
   ]
  },
  {
   "cell_type": "code",
   "execution_count": 109,
   "id": "84ea4487-5e91-44a8-b17e-21cdebf4f297",
   "metadata": {},
   "outputs": [
    {
     "name": "stdout",
     "output_type": "stream",
     "text": [
      "%   10   9   8   7   6   5   4   3   2   1   0   \n",
      "%   11   %   %   %   %   %   %   %   %   %   1   \n",
      "%   12   %   10   9   8   7   6   5   4   %   2   \n",
      "%   13   %   11   %   %   %   %   %   5   %   3   \n",
      "%   14   13   12   %   10   9   8   7   6   %   4   \n",
      "%   %   %   13   %   11   %   %   %   %   %   5   \n",
      "A   16   15   14   %   12   11   10   9   8   7   6   \n"
     ]
    }
   ],
   "source": [
    "Grid = [\n",
    "    ['%', 10,9,8,7,6,5,4,3,2,1,0],\n",
    "    ['%', 11, '%', '%', '%', '%', '%', '%', '%', '%', '%' , 1],\n",
    "    ['%', 12, '%', 10, 9, 8, 7, 6, 5, 4, '%' , 2],\n",
    "    ['%', 13, '%', 11, '%', '%', '%', '%', '%', 5, '%' , 3],\n",
    "    ['%', 14, 13, 12, '%', 10, 9, 8, 7, 6, '%' , 4],\n",
    "    ['%', '%', '%', 13, '%', 11, '%', '%', '%', '%', '%' , 5],\n",
    "    ['A', 16, 15, 14, '%', 12, 11, 10, 9, 8, 7 , 6],\n",
    "]\n",
    "for a in Grid:\n",
    "    for i in a:    \n",
    "        print (i,'  ', end = '')\n",
    "    print ()"
   ]
  },
  {
   "cell_type": "code",
   "execution_count": null,
   "id": "eed6eb57-20e4-45cb-afae-3d86c2a53115",
   "metadata": {},
   "outputs": [],
   "source": []
  },
  {
   "cell_type": "code",
   "execution_count": 122,
   "id": "da417327-c0b2-4e6f-a510-f5c74f46719f",
   "metadata": {},
   "outputs": [
    {
     "name": "stdout",
     "output_type": "stream",
     "text": [
      "A\n",
      "Reached\n"
     ]
    }
   ],
   "source": [
    "Open  = []\n",
    "Close = []\n",
    "\n",
    "current = (6,0)\n",
    "print (Grid [current[0]][current[1]])\n",
    "Open.append ((Grid [current[0]][current[1]],current[0], current[1]) )\n",
    "\n",
    "while (len (Open) != 0):\n",
    "    val= Open.pop(0)\n",
    "    Close.append (val)\n",
    "    \n",
    "    \n",
    "    current = (val[1],val[2])\n",
    "    if (val [0] == 0):\n",
    "        print ('Reached')\n",
    "        break\n",
    "    if (current[0] + 1 < 7 and Grid [current[0] + 1][current[1]] != '%' and (Grid [current[0] + 1][current[1]] ,current[0] + 1, current[1] ) not in Open and (Grid [current[0] + 1][current[1]] ,current[0] + 1, current[1] ) not in Close ):\n",
    "        tuple = (Grid [current[0] + 1][current[1]] ,current[0] + 1, current[1] )\n",
    "        Open.append ( tuple )\n",
    "    if (current[0] - 1 >= 0 and Grid [current[0] - 1][current[1]] != '%' and (Grid [current[0] - 1][current[1]] ,current[0] - 1, current[1] ) not in Open and (Grid [current[0] - 1][current[1]] ,current[0] - 1, current[1] ) not in Close ):\n",
    "        tuple = (Grid [current[0] - 1][current[1]] ,current[0] - 1, current[1] )\n",
    "        Open.append ( tuple )\n",
    "    if (current[1] + 1 < 12 and Grid [current[0]][current[1]+1] != '%' and (Grid [current[0]][current[1]+1] ,current[0] , current[1] +1 ) not in Open and (Grid [current[0]][current[1] + 1] ,current[0] , current[1] + 1 ) not in Close ):\n",
    "        tuple = (Grid [current[0] ][current[1] + 1] ,current[0], current[1] + 1)\n",
    "        Open.append ( tuple )\n",
    "    if (current[1] - 1 >= 0 and Grid [current[0]][current[1]-1] != '%' and (Grid [current[0]][current[1]-1] ,current[0] , current[1] -1 ) not in Open and (Grid [current[0]][current[1] - 1] ,current[0] , current[1] - 1 ) not in Close ):\n",
    "        tuple = (Grid [current[0] ][current[1] - 1] ,current[0], current[1] - 1)\n",
    "        Open.append ( tuple )\n",
    "    Open.sort()\n",
    "    \n",
    "    "
   ]
  },
  {
   "cell_type": "code",
   "execution_count": 130,
   "id": "c205344a-e82c-4b4f-8490-ceb1b6e0153c",
   "metadata": {},
   "outputs": [
    {
     "name": "stdout",
     "output_type": "stream",
     "text": [
      "Path using Greedy Algo\n",
      "A -> 16 -> 15 -> 14 -> 13 -> 12 -> 11 -> 10 -> 9 -> 8 -> 7 -> 6 -> 5 -> 4 -> 5 -> 6 -> 7 -> 8 -> 9 -> 10 -> 11 -> 12 -> 11 -> 10 -> 9 -> 8 -> 7 -> 6 -> 5 -> 4 -> 3 -> 2 -> 1 -> 0 -> "
     ]
    }
   ],
   "source": [
    "print ('Path using Greedy Algo')\n",
    "for a in Close:\n",
    "    print (a[0], end =' -> ')"
   ]
  },
  {
   "cell_type": "markdown",
   "id": "51762578-def9-4f96-be32-09cfd1976920",
   "metadata": {},
   "source": [
    "# Task"
   ]
  },
  {
   "cell_type": "code",
   "execution_count": 154,
   "id": "7c6d9a51-d032-487e-ad54-36bbdcddfcd2",
   "metadata": {},
   "outputs": [],
   "source": [
    "graph = {\n",
    "    \"Arad\": [366, [(\"Zerind\", 75), (\"Sibiu\", 140), (\"Timisoara\", 118)]],\n",
    "    \"Bucharest\": [0, [(\"Fagaras\", 211), (\"Urziceni\", 85), (\"Giurgiu\", 90), (\"Pitesti\", 101)]],\n",
    "    \"Craiova\": [160, [(\"Dobreta\", 120), (\"Pitesti\", 138), (\"Rimnicu Vilcea\", 146)]],\n",
    "    \"Dobreta\": [242, [(\"Mehadia\", 75), (\"Craiova\", 120)]],\n",
    "    \"Eforie\": [161, [(\"Hirsova\", 86)]],\n",
    "    \"Fagaras\": [178, [(\"Bucharest\", 211), (\"Sibiu\", 99)]],\n",
    "    \"Giurgiu\": [77, [(\"Bucharest\", 90)]],\n",
    "    \"Hirsova\": [151, [(\"Urziceni\", 98), (\"Eforie\", 86)]],\n",
    "    \"Iasi\": [226, [(\"Neamt\", 87), (\"Vaslui\", 92)]],\n",
    "    \"Lugoj\": [244, [(\"Timisoara\", 111), (\"Mehadia\", 70)]],\n",
    "    \"Mehadia\": [241, [(\"Lugoj\", 70), (\"Dobreta\", 75)]],\n",
    "    \"Neamt\": [234, [(\"Iasi\", 87)]],\n",
    "    \"Oradea\": [380, [(\"Zerind\", 71), (\"Sibiu\", 151)]],\n",
    "    \"Pitesti\": [98, [(\"Bucharest\", 101), (\"Craiova\", 138), (\"Rimnicu Vilcea\", 97)]],\n",
    "    \"Rimnicu Vilcea\": [193, [(\"Sibiu\", 80), (\"Pitesti\", 97), (\"Craiova\", 146)]],\n",
    "    \"Sibiu\": [253, [(\"Arad\", 140), (\"Oradea\", 151), (\"Fagaras\", 99), (\"Rimnicu Vilcea\", 80)]],\n",
    "    \"Timisoara\": [329, [(\"Arad\", 118), (\"Lugoj\", 111)]],\n",
    "    \"Urziceni\": [80, [(\"Bucharest\", 85), (\"Hirsova\", 98), (\"Vaslui\", 142)]],\n",
    "    \"Vaslui\": [199, [(\"Iasi\", 92), (\"Urziceni\", 142)]],\n",
    "    \"Zerind\": [374, [(\"Arad\", 75), (\"Oradea\", 71)]]\n",
    "}\n",
    "\n",
    "# Ordea to Bucharest\n"
   ]
  },
  {
   "cell_type": "code",
   "execution_count": 184,
   "id": "b24c848d-2d62-4784-a940-39294b6b9e83",
   "metadata": {},
   "outputs": [
    {
     "name": "stdout",
     "output_type": "stream",
     "text": [
      "Reached\n"
     ]
    }
   ],
   "source": [
    "open = []\n",
    "close = []\n",
    "start = 'Oradea'\n",
    "goal = 'Bucharest'\n",
    "\n",
    "open.append ((0, 0, start))\n",
    "\n",
    "while (len (open) != 0):\n",
    "    val = open.pop(0)\n",
    "    close.append (val)\n",
    "    G = val[1]\n",
    "    temp_list = []\n",
    "    if val[2] == goal:\n",
    "        print ('Reached')\n",
    "        break\n",
    "    temp_open = [val[2] for val in open]\n",
    "    temp_close = [val[2] for val in close]\n",
    "    # print (close)\n",
    "    for node in graph[val[2]][1]:\n",
    "        if node[0] not in temp_open and node[0] not in temp_close:\n",
    "            H = graph [node[0]][0]\n",
    "            new_G = G + node[1]\n",
    "            \n",
    "            F = new_G+H\n",
    "            open.append ((F,new_G, node[0]))\n",
    "    open.sort()            \n",
    "            \n",
    "        \n",
    "    \n"
   ]
  },
  {
   "cell_type": "code",
   "execution_count": 189,
   "id": "19d0a2c1-ac73-4b9a-b6f3-f25ac5861e3e",
   "metadata": {},
   "outputs": [
    {
     "name": "stdout",
     "output_type": "stream",
     "text": [
      "Shorter path from Ordea to Bucharest\n",
      "Oradea -> Sibiu -> Rimnicu Vilcea -> Pitesti -> Fagaras -> Bucharest -> "
     ]
    }
   ],
   "source": [
    "print ('Shorter path from Ordea to Bucharest')\n",
    "for a in close:\n",
    "    print (a[2], end =' -> ')"
   ]
  },
  {
   "cell_type": "code",
   "execution_count": null,
   "id": "0ff902c7-a906-47ad-939b-fe34abf65d87",
   "metadata": {},
   "outputs": [],
   "source": []
  },
  {
   "cell_type": "code",
   "execution_count": null,
   "id": "c0eec986-966b-4ee3-b3a5-f04acd7a2b78",
   "metadata": {},
   "outputs": [],
   "source": []
  }
 ],
 "metadata": {
  "kernelspec": {
   "display_name": "Python 3 (ipykernel)",
   "language": "python",
   "name": "python3"
  },
  "language_info": {
   "codemirror_mode": {
    "name": "ipython",
    "version": 3
   },
   "file_extension": ".py",
   "mimetype": "text/x-python",
   "name": "python",
   "nbconvert_exporter": "python",
   "pygments_lexer": "ipython3",
   "version": "3.12.3"
  }
 },
 "nbformat": 4,
 "nbformat_minor": 5
}
