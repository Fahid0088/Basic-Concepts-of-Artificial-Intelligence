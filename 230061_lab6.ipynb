{
 "cells": [
  {
   "cell_type": "code",
   "execution_count": 130,
   "id": "5155f263-6c99-4f4b-a6bc-6146c43b64da",
   "metadata": {},
   "outputs": [],
   "source": [
    "import random\n",
    "\n",
    "\n",
    "\n",
    "def give_random_number(n):\n",
    "    bits = ['0', '1']\n",
    "    str = ''\n",
    "    for i in range (n):\n",
    "        str = str + random.choice(bits)\n",
    "    return str\n",
    "\n"
   ]
  },
  {
   "cell_type": "markdown",
   "id": "e53217a7-4497-4947-8c68-e59e4b17452a",
   "metadata": {},
   "source": [
    "# Initial Population:"
   ]
  },
  {
   "cell_type": "code",
   "execution_count": 133,
   "id": "8ab051cd-1d27-4547-a88c-b4cfec4512cf",
   "metadata": {},
   "outputs": [
    {
     "name": "stdout",
     "output_type": "stream",
     "text": [
      "['111110', '011110', '100010', '101101', '000110', '000101', '101101', '000111', '001111', '010001', '001111', '000011', '001110', '011011', '000111', '000101', '110100', '011110', '010101', '011000', '111010', '110011', '110011', '101101', '001000', '111101', '100100', '001010', '111111', '101101', '100001', '011001', '010110', '101011', '010111', '101101', '100011', '110101', '010100', '011011', '111010', '001101', '010001', '000011', '111001', '101000', '101001', '100110', '100000', '011000']\n"
     ]
    }
   ],
   "source": [
    "size = 6\n",
    "population = [give_random_number(size) for i in range (50)]\n",
    "print (population)"
   ]
  },
  {
   "cell_type": "markdown",
   "id": "34c9fc90-ebc1-46f4-9d4c-f2ee81b90049",
   "metadata": {},
   "source": [
    "# Fitness Function"
   ]
  },
  {
   "cell_type": "code",
   "execution_count": 136,
   "id": "33a2e8d4-87df-4cd1-9445-1dd60542656b",
   "metadata": {},
   "outputs": [
    {
     "name": "stdout",
     "output_type": "stream",
     "text": [
      "[(9.9, '100010'), (5.6, '001000'), (5.0, '100100'), (7.0, '101000'), (1.4, '100000')]\n"
     ]
    }
   ],
   "source": [
    "def fitness_function (cromosom):\n",
    "\n",
    "    values = [14, 23, 8, 9, 17, 15]\n",
    "    weights = [1, 3, 7, 4, 5, 6]\n",
    "\n",
    "    sum = 0 \n",
    "    for i in range (len (cromosom)):\n",
    "        if cromosom[i] == '1':\n",
    "            sum = sum + (values[i] * weights[i])/10\n",
    "    return sum\n",
    "new_population = []\n",
    "for p in population:\n",
    "    fitness_value = fitness_function(p)\n",
    "    if (fitness_value <= 10):\n",
    "        new_population.append ((fitness_value , p))\n",
    "        \n",
    "print (new_population)\n",
    "\n",
    "\n"
   ]
  },
  {
   "cell_type": "markdown",
   "id": "3f70c227-c9b2-4d35-afed-9917a0e4ddec",
   "metadata": {},
   "source": [
    "# Selection "
   ]
  },
  {
   "cell_type": "code",
   "execution_count": 139,
   "id": "210e50fd-34db-4ae7-af8b-59a39062b2e7",
   "metadata": {},
   "outputs": [
    {
     "name": "stdout",
     "output_type": "stream",
     "text": [
      "[(9.9, '100010'), (7.0, '101000'), (5.6, '001000')]\n"
     ]
    }
   ],
   "source": [
    "new_population.sort(reverse = True)\n",
    "\n",
    "selected = new_population[:3]\n",
    "print (selected)"
   ]
  },
  {
   "cell_type": "markdown",
   "id": "b7b1f06c-ec8f-477b-ba88-28f05f6806f9",
   "metadata": {},
   "source": [
    "# Crossover"
   ]
  },
  {
   "cell_type": "code",
   "execution_count": 142,
   "id": "329797e4-7eb7-4e8a-a12e-5ebcccc8022f",
   "metadata": {},
   "outputs": [
    {
     "name": "stdout",
     "output_type": "stream",
     "text": [
      "Selected Parents: \n",
      "100010\n",
      "101000\n",
      "New Childs: \n",
      "100000\n",
      "101010\n"
     ]
    }
   ],
   "source": [
    "def crossover (p1, p2):\n",
    "    c1 = ''\n",
    "    c2 = ''\n",
    "    point = 3\n",
    "    for i in range (len (p1)):\n",
    "        if (i < point):\n",
    "            c1 = c1 + p1[i]\n",
    "            c2 = c2 + p2[i]\n",
    "        else:\n",
    "            c1 = c1 + p2[i]\n",
    "            c2 = c2 + p1[i]\n",
    "        \n",
    "    return c1,c2\n",
    "    \n",
    "parent1 , parent2 = selected[:2]\n",
    "child1, child2 = crossover (parent1[1], parent2[1])\n",
    "print ('Selected Parents: ')\n",
    "print (parent1[1])\n",
    "print (parent2[1])\n",
    "print ('New Childs: ')\n",
    "print (child1)\n",
    "print (child2)\n",
    "\n"
   ]
  },
  {
   "cell_type": "code",
   "execution_count": 144,
   "id": "c2b947fa-7fe0-44a7-8b0e-4c717e6d7664",
   "metadata": {},
   "outputs": [
    {
     "name": "stdout",
     "output_type": "stream",
     "text": [
      "110000\n",
      "101011\n"
     ]
    }
   ],
   "source": [
    "def mutation (prob, parent):\n",
    "    n = int (prob*10)\n",
    "    list = []\n",
    "    child = ''\n",
    "    for i in range (n):\n",
    "        j = random.randint (0,len(parent))\n",
    "        list.append(j)\n",
    "    for i in range (len(parent)):\n",
    "        if (i in list and parent[i] == '0'):\n",
    "            child = child + '1'\n",
    "        elif (i in list and parent[i] == '1'):\n",
    "            child = child + '0'\n",
    "        else:\n",
    "            child = child + parent[i]\n",
    "    return child\n",
    "child3 = mutation (0.1, child1)\n",
    "child4 = mutation (0.1, child2)\n",
    "print (child3)\n",
    "print (child4)"
   ]
  },
  {
   "cell_type": "code",
   "execution_count": 146,
   "id": "863859ab-a8c0-4527-926d-ef529c74c09d",
   "metadata": {},
   "outputs": [
    {
     "name": "stdout",
     "output_type": "stream",
     "text": [
      "['100010', '010110', '001000', '101011', '001111', '000111', '000010', '011111', '000101', '010010', '100100', '011001', '110101', '110000', '000001', '001101', '110011', '010010', '110111', '100110', '110100', '110111', '111100', '000000', '100110', '101001', '110110', '011010', '001111', '001100', '111100', '001011', '100101', '100101', '110110', '001111', '000001', '011001', '000110', '001001', '101100', '011001', '101000', '010011', '100001', '001010', '100101', '011111', '100010', '000100']\n",
      "[(9.9, '100010'), (5.6, '001000'), (8.5, '000010'), (5.0, '100100'), (8.3, '110000'), (9.0, '000001'), (0, '000000'), (9.2, '001100'), (9.0, '000001'), (7.0, '101000'), (9.9, '100010'), (3.6, '000100')]\n",
      "[(9.9, '100010'), (9.9, '100010'), (9.2, '001100')]\n",
      "Selected Parents: \n",
      "100010\n",
      "100010\n",
      "New Childs: \n",
      "100010\n",
      "100010\n",
      "000010\n",
      "100000\n",
      "Iteration 0:\n",
      "------------------------------------------------------------------------------------------------------------------\n",
      "['100010', '100010', '001100', '000001', '000001', '000010', '110000', '101000', '100010', '100010', '000010', '100000']\n",
      "------------------------------------------------------------------------------------------------------------------\n",
      "['000110', '111010', '110101', '011110', '100110', '100001', '110111', '110111', '011110', '110111', '011011', '100011', '100110', '101101', '011010', '101000', '001101', '100001', '010000', '110100', '111100', '101100', '011010', '010101', '100111', '101010', '100010', '000101', '111101', '101110', '011010', '110010', '000101', '011100', '101110', '001101', '110101', '100000', '010100', '100111', '111010', '001010', '100010', '101010', '010001', '000001', '010101', '110001', '110000', '110100']\n",
      "[(7.0, '101000'), (6.9, '010000'), (9.9, '100010'), (1.4, '100000'), (9.9, '100010'), (9.0, '000001'), (8.3, '110000')]\n",
      "[(9.9, '100010'), (9.9, '100010'), (9.0, '000001')]\n",
      "Selected Parents: \n",
      "100010\n",
      "100010\n",
      "New Childs: \n",
      "100010\n",
      "100010\n",
      "100010\n",
      "101010\n",
      "Iteration 1:\n",
      "------------------------------------------------------------------------------------------------------------------\n",
      "['100010', '100010', '000001', '100010', '100010', '100010', '101010']\n",
      "------------------------------------------------------------------------------------------------------------------\n",
      "['101111', '101001', '000010', '111010', '110101', '000101', '001110', '000110', '101110', '011011', '011010', '010010', '110001', '111100', '000011', '100010', '111011', '010101', '111000', '011000', '101001', '110101', '100111', '011000', '110011', '001001', '010000', '101111', '111110', '011001', '110110', '011110', '000100', '010111', '100000', '111000', '000111', '001001', '001001', '110000', '110000', '010010', '011100', '011001', '011111', '010010', '110011', '110011', '100011', '100001']\n",
      "[(8.5, '000010'), (9.9, '100010'), (6.9, '010000'), (3.6, '000100'), (1.4, '100000'), (8.3, '110000'), (8.3, '110000')]\n",
      "[(9.9, '100010'), (8.5, '000010'), (8.3, '110000')]\n",
      "Selected Parents: \n",
      "100010\n",
      "000010\n",
      "New Childs: \n",
      "100010\n",
      "000010\n",
      "101010\n",
      "000000\n",
      "Iteration 2:\n",
      "------------------------------------------------------------------------------------------------------------------\n",
      "['100010', '000010', '110000', '100010', '000010', '101010', '000000']\n",
      "------------------------------------------------------------------------------------------------------------------\n",
      "['110010', '100010', '000001', '110011', '001001', '001001', '111111', '010000', '101000', '111111', '110100', '001110', '100111', '010011', '111111', '110011', '001010', '110010', '001000', '100011', '111100', '001000', '001110', '000101', '010010', '111111', '111000', '110001', '000010', '111000', '010001', '111001', '100011', '001100', '100110', '111111', '000101', '111100', '111011', '110100', '100110', '101001', '110001', '001000', '101001', '111101', '001001', '011000', '011001', '101111']\n",
      "[(9.9, '100010'), (9.0, '000001'), (6.9, '010000'), (7.0, '101000'), (5.6, '001000'), (5.6, '001000'), (8.5, '000010'), (9.2, '001100'), (5.6, '001000')]\n",
      "[(9.9, '100010'), (9.2, '001100'), (9.0, '000001')]\n",
      "Selected Parents: \n",
      "100010\n",
      "001100\n",
      "New Childs: \n",
      "100100\n",
      "001010\n",
      "110100\n",
      "001010\n",
      "Iteration 3:\n",
      "------------------------------------------------------------------------------------------------------------------\n",
      "['100010', '001100', '000001', '000010', '101000', '100100', '001010', '110100', '001010']\n",
      "------------------------------------------------------------------------------------------------------------------\n",
      "['001100', '011100', '001101', '001110', '101110', '010101', '111111', '101101', '110100', '110010', '011110', '000001', '111100', '001111', '111010', '000100', '100111', '010101', '001100', '010110', '101000', '100111', '100000', '101111', '110011', '011011', '110001', '000111', '001100', '010011', '001101', '100010', '100100', '000010', '100011', '011111', '101001', '001101', '011111', '110000', '101000', '000111', '000001', '100101', '011001', '100001', '011100', '010001', '111111', '111100']\n",
      "[(9.2, '001100'), (9.0, '000001'), (3.6, '000100'), (9.2, '001100'), (7.0, '101000'), (1.4, '100000'), (9.2, '001100'), (9.9, '100010'), (5.0, '100100'), (8.5, '000010'), (8.3, '110000'), (7.0, '101000'), (9.0, '000001')]\n",
      "[(9.9, '100010'), (9.2, '001100'), (9.2, '001100')]\n",
      "Selected Parents: \n",
      "100010\n",
      "001100\n",
      "New Childs: \n",
      "100100\n",
      "001010\n",
      "100100\n",
      "001011\n",
      "Iteration 4:\n",
      "------------------------------------------------------------------------------------------------------------------\n",
      "['100010', '001100', '001100', '001100', '000001', '000001', '000010', '110000', '101000', '100100', '001010', '100100', '001011']\n",
      "------------------------------------------------------------------------------------------------------------------\n"
     ]
    }
   ],
   "source": [
    "import random\n",
    "\n",
    "\n",
    "for a in range (5):\n",
    "\n",
    "    def give_random_number(n):\n",
    "        bits = ['0', '1']\n",
    "        str = ''\n",
    "        for i in range (n):\n",
    "            str = str + random.choice(bits)\n",
    "        return str\n",
    "    \n",
    "    size = 6\n",
    "    population = [give_random_number(size) for i in range (50)]\n",
    "    print (population)\n",
    "    \n",
    "    def fitness_function (cromosom):\n",
    "    \n",
    "        values = [14, 23, 8, 9, 17, 15]\n",
    "        weights = [1, 3, 7, 4, 5, 6]\n",
    "    \n",
    "        sum = 0 \n",
    "        for i in range (len (cromosom)):\n",
    "            if cromosom[i] == '1':\n",
    "                sum = sum + (values[i] * weights[i])/10\n",
    "        return sum\n",
    "    new_population = []\n",
    "    for p in population:\n",
    "        fitness_value = fitness_function(p)\n",
    "        if (fitness_value <= 10):\n",
    "            new_population.append ((fitness_value , p))\n",
    "            \n",
    "    print (new_population)\n",
    "    \n",
    "    new_population.sort(reverse = True)\n",
    "    \n",
    "    selected = new_population[:3]\n",
    "    print (selected)\n",
    "    \n",
    "    def crossover (p1, p2):\n",
    "        c1 = ''\n",
    "        c2 = ''\n",
    "        point = 3\n",
    "        for i in range (len (p1)):\n",
    "            if (i < point):\n",
    "                c1 = c1 + p1[i]\n",
    "                c2 = c2 + p2[i]\n",
    "            else:\n",
    "                c1 = c1 + p2[i]\n",
    "                c2 = c2 + p1[i]\n",
    "            \n",
    "        return c1,c2\n",
    "        \n",
    "    parent1 , parent2 = selected[:2]\n",
    "    child1, child2 = crossover (parent1[1], parent2[1])\n",
    "    print ('Selected Parents: ')\n",
    "    print (parent1[1])\n",
    "    print (parent2[1])\n",
    "    print ('New Childs: ')\n",
    "    print (child1)\n",
    "    print (child2)\n",
    "    \n",
    "    def mutation (prob, parent):\n",
    "        n = int (prob*10)\n",
    "        list = []\n",
    "        child = ''\n",
    "        for i in range (n):\n",
    "            j = random.randint (0,len(parent))\n",
    "            list.append(j)\n",
    "        for i in range (len(parent)):\n",
    "            if (i in list and parent[i] == '0'):\n",
    "                child = child + '1'\n",
    "            elif (i in list and parent[i] == '1'):\n",
    "                child = child + '0'\n",
    "            else:\n",
    "                child = child + parent[i]\n",
    "        return child\n",
    "    child3 = mutation (0.1, child1)\n",
    "    child4 = mutation (0.1, child2)\n",
    "    print (child3)\n",
    "    print (child4)\n",
    "    \n",
    "    new_population = new_population [:-4]\n",
    "    new_population = [ a[1] for a in new_population]\n",
    "    new_population.append (child1)\n",
    "    new_population.append (child2)\n",
    "    new_population.append (child3)\n",
    "    new_population.append (child4)\n",
    "\n",
    "    print (f'Iteration {a}:')\n",
    "    population = new_population\n",
    "    print ('------------------------------------------------------------------------------------------------------------------')\n",
    "    print (population)\n",
    "    print ('------------------------------------------------------------------------------------------------------------------')"
   ]
  },
  {
   "cell_type": "code",
   "execution_count": null,
   "id": "328095f6-f775-449d-a3f2-84019feff757",
   "metadata": {},
   "outputs": [],
   "source": []
  },
  {
   "cell_type": "code",
   "execution_count": null,
   "id": "edac4c84-9b4c-42d8-bb52-a91cadc498bd",
   "metadata": {},
   "outputs": [],
   "source": []
  },
  {
   "cell_type": "code",
   "execution_count": null,
   "id": "abe1a1cc-eaa8-40db-9e12-997b86c0b587",
   "metadata": {},
   "outputs": [],
   "source": []
  },
  {
   "cell_type": "code",
   "execution_count": null,
   "id": "2d6e6d8d-da46-42b9-b1a5-08763529c578",
   "metadata": {},
   "outputs": [],
   "source": []
  }
 ],
 "metadata": {
  "kernelspec": {
   "display_name": "Python 3 (ipykernel)",
   "language": "python",
   "name": "python3"
  },
  "language_info": {
   "codemirror_mode": {
    "name": "ipython",
    "version": 3
   },
   "file_extension": ".py",
   "mimetype": "text/x-python",
   "name": "python",
   "nbconvert_exporter": "python",
   "pygments_lexer": "ipython3",
   "version": "3.12.3"
  }
 },
 "nbformat": 4,
 "nbformat_minor": 5
}
