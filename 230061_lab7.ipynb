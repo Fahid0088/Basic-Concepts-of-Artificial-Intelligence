{
 "cells": [
  {
   "cell_type": "code",
   "execution_count": 57,
   "id": "87e2cdaa-e257-4ce0-bc33-c38eec6a69f2",
   "metadata": {},
   "outputs": [
    {
     "name": "stdout",
     "output_type": "stream",
     "text": [
      "False\n",
      "Package 4 assigned to City A.\n",
      "Package 3 assigned to City A.\n",
      "Package 1 assigned to City B.\n",
      "Package 2 assigned to City C.\n"
     ]
    }
   ],
   "source": [
    "\n",
    "# dict = {\n",
    "#     'Package 1': ['A', 'B'],\n",
    "#     'Package 2': ['B', 'C'],\n",
    "#     'Package 3': ['A', 'C'],\n",
    "#     'Package 4': ['A']\n",
    "# }\n",
    "\n",
    "dict = {\n",
    "\n",
    "    'A': [['Package 1', 'Package 3', 'Package 4'], False, ''],\n",
    "    'B': [['Package 1', 'Package 2'], False, ''],\n",
    "    'C': [['Package 2', 'Package 3'], False, '']\n",
    "}\n",
    "\n",
    "def is_empty () :\n",
    "    for a in dict.keys():\n",
    "        if not dict[a][1] :\n",
    "            return False\n",
    "    return True\n",
    "\n",
    "\n",
    "\n",
    "print (is_empty())\n",
    "backup = []\n",
    "while (True):\n",
    "    if (is_empty ()):\n",
    "        break\n",
    "        \n",
    "    list = [(len (dict[a][0]), a) for a in dict.keys() if not dict[a][1]]\n",
    "    \n",
    "    var = min(list)[1]\n",
    "    dict[var][2] = dict[var][0][0]\n",
    "    dict[var][1] = True\n",
    "    value = dict[var][0][0]\n",
    "    for a in dict.keys():\n",
    "        if (value in dict[a][0]):\n",
    "            dict[a][0].remove (value)\n",
    "    \n",
    "for a in dict.keys():\n",
    "    dict[a][0].append (dict[a][2])\n",
    "# print (dict)  \n",
    "for key in dict.keys ():\n",
    "    for a in dict[key][0]:\n",
    "        print (f'{a} assigned to City {key}.')\n",
    "var = ['A', 'B', 'C']\n",
    "package_limit = [2,3,1]\n",
    "\n",
    "\n"
   ]
  },
  {
   "cell_type": "code",
   "execution_count": 19,
   "id": "d9b693f2-a71e-4401-92db-cb327fef47d3",
   "metadata": {},
   "outputs": [
    {
     "name": "stdout",
     "output_type": "stream",
     "text": [
      "(2, 'B')\n"
     ]
    }
   ],
   "source": [
    "l = [(3, 'A'), (2, 'B'), (2, 'C')]\n",
    "print (min(l))\n"
   ]
  },
  {
   "cell_type": "code",
   "execution_count": 1,
   "id": "12c1ca9e-6b2d-421c-b2fe-dcedf9de105f",
   "metadata": {},
   "outputs": [
    {
     "name": "stdout",
     "output_type": "stream",
     "text": [
      "Solution: {'A': 'Green', 'B': 'Blue', 'C': 'Blue', 'D': 'Green'}\n"
     ]
    }
   ],
   "source": [
    "def validate_color(region, color, assignment, neighbors):\n",
    "    for neighbor in neighbors[region]:\n",
    "        if neighbor in assignment and assignment[neighbor] == color:\n",
    "            return False\n",
    "    return True\n",
    "\n",
    "def backtrack(assignment, regions, colors, neighbors):\n",
    "    if len(assignment) == len(regions):\n",
    "        return assignment\n",
    "    \n",
    "    region = next(r for r in regions if r not in assignment)\n",
    "    \n",
    "    for color in colors:\n",
    "        if validate_color(region, color, assignment, neighbors):\n",
    "            assignment[region] = color\n",
    "            result = backtrack(assignment, regions, colors, neighbors)\n",
    "            if result:\n",
    "                return result\n",
    "            assignment.pop(region)\n",
    "    \n",
    "    return None\n",
    "\n",
    "def CSP():\n",
    "    regions = ['A', 'B', 'C', 'D']\n",
    "    colors =[ 'Green', 'Blue']\n",
    "    neighbors = {\n",
    "        'A': ['B', 'C'],\n",
    "        'B': ['A', 'D'],\n",
    "        'C': ['A', 'D'],\n",
    "        'D': ['B', 'C']\n",
    "    }\n",
    "    \n",
    "    var = backtrack({}, regions, colors, neighbors)\n",
    "    \n",
    "    if var:\n",
    "        print(\"Solution:\", var)\n",
    "    else:\n",
    "        print(\"No solution found.\")\n",
    "\n",
    "CSP()\n",
    "\n"
   ]
  },
  {
   "cell_type": "code",
   "execution_count": 1,
   "id": "b98c9389",
   "metadata": {},
   "outputs": [],
   "source": [
    "def printGrid(grid):\n",
    "    for a in grid:\n",
    "        for b in a:\n",
    "            print (b, end = ' ')\n",
    "        print ()"
   ]
  },
  {
   "cell_type": "code",
   "execution_count": 2,
   "id": "d5f67f99-5505-4c7d-b4af-4505bb25134a",
   "metadata": {},
   "outputs": [
    {
     "name": "stdout",
     "output_type": "stream",
     "text": [
      "- - - - - - - - - \n",
      "- - - - - - - - - \n",
      "- - - - - - - - - \n",
      "- - - - - - - - - \n",
      "- - - - - - - - - \n",
      "- - - - - - - - - \n",
      "- - - - - - - - - \n",
      "- - - - - - - - - \n",
      "- - - - - - - - - \n"
     ]
    }
   ],
   "source": [
    "grid = [['-' for i in range(9) ] for j in range(9)]\n",
    "printGrid (grid)"
   ]
  },
  {
   "cell_type": "code",
   "execution_count": 10,
   "id": "80467ba2",
   "metadata": {},
   "outputs": [
    {
     "name": "stdout",
     "output_type": "stream",
     "text": [
      "[(0, 0), (0, 1), (0, 2), (0, 3), (0, 4), (0, 5), (0, 6), (0, 7), (0, 8), (1, 0), (1, 1), (1, 2), (1, 3), (1, 4), (1, 5), (1, 6), (1, 7), (1, 8), (2, 0), (2, 1), (2, 2), (2, 3), (2, 4), (2, 5), (2, 6), (2, 7), (2, 8), (3, 0), (3, 1), (3, 2), (3, 3), (3, 4), (3, 5), (3, 6), (3, 7), (3, 8), (4, 0), (4, 1), (4, 2), (4, 3), (4, 4), (4, 5), (4, 6), (4, 7), (4, 8), (5, 0), (5, 1), (5, 2), (5, 3), (5, 4), (5, 5), (5, 6), (5, 7), (5, 8), (6, 0), (6, 1), (6, 2), (6, 3), (6, 4), (6, 5), (6, 6), (6, 7), (6, 8), (7, 0), (7, 1), (7, 2), (7, 3), (7, 4), (7, 5), (7, 6), (7, 7), (7, 8), (8, 0), (8, 1), (8, 2), (8, 3), (8, 4), (8, 5), (8, 6), (8, 7), (8, 8)]\n"
     ]
    }
   ],
   "source": [
    "values = '123456789'\n",
    "g = [[(j,i) for i in range(9) ] for j in range(9)]\n",
    "variables = []\n",
    "\n",
    "for i in range(9):\n",
    "    for j in range(9):\n",
    "        variables.append(g[i][j])\n",
    "print (variables)\n",
    "\n",
    "neighbours = {}\n",
    "\n",
    "for var in variables:\n",
    "    list = []\n",
    "    x,y = var\n",
    "    for i in range(9):\n",
    "        if i != x:\n",
    "            list.append((i,y))\n",
    "        if i != y:\n",
    "            list.append((x,i))\n",
    "   \n",
    "    for i in range(9):\n",
    "        for j in range(9):\n",
    "            \n",
    "            if (i,j) not in list:\n",
    "                if ((i >= (x - x % 3)) and (i < (x + 3- x % 3))  and (j >= (y - y % 3)) and (j < (y + 3- y % 3))):\n",
    "                    list.append((i,j))\n",
    "    neighbours[var] = list\n",
    "    # print (list)\n",
    "                "
   ]
  },
  {
   "cell_type": "code",
   "execution_count": 11,
   "id": "d2b67f86",
   "metadata": {},
   "outputs": [
    {
     "name": "stdout",
     "output_type": "stream",
     "text": [
      "1 2 3 4 5 6 7 8 9 \n",
      "4 5 6 7 8 9 1 2 3 \n",
      "7 8 9 1 2 3 4 5 6 \n",
      "2 1 4 3 6 5 8 9 7 \n",
      "3 6 5 8 9 7 2 1 4 \n",
      "8 9 7 2 1 4 3 6 5 \n",
      "5 3 1 6 4 2 9 7 8 \n",
      "6 4 2 9 7 8 5 3 1 \n",
      "9 7 8 5 3 1 6 4 2 \n"
     ]
    }
   ],
   "source": [
    "def evaluate(variable, value, assignment, neighbours):\n",
    "    for n in neighbours[variable]:\n",
    "        if n in assignment and assignment[n] == value:\n",
    "            return False\n",
    "    return True\n",
    "\n",
    "def backTrack (assignment, variables, values, neighbours):\n",
    "    if (len (assignment) == len (variables)):\n",
    "        return assignment\n",
    "    \n",
    "    var = 0\n",
    "    for v in variables:\n",
    "        if v not in assignment:\n",
    "            var = v\n",
    "            break\n",
    "    \n",
    "    for val in values:\n",
    "        if evaluate(var, val, assignment, neighbours):\n",
    "            assignment[var] = val\n",
    "            result = backTrack(assignment, variables, values, neighbours)\n",
    "            if result:\n",
    "                return result\n",
    "            else:\n",
    "                assignment.pop(var)\n",
    "            \n",
    "        \n",
    "    return None\n",
    "    \n",
    "\n",
    "ass = backTrack({}, variables, values, neighbours)\n",
    "if ass:\n",
    "    for key in ass.keys():\n",
    "        grid[key[0]][key[1]] = ass[key]\n",
    "printGrid(grid)"
   ]
  },
  {
   "cell_type": "markdown",
   "id": "bd8edef0",
   "metadata": {},
   "source": []
  },
  {
   "cell_type": "code",
   "execution_count": null,
   "id": "47a549d7",
   "metadata": {},
   "outputs": [],
   "source": [
    "# Packages: [1, 2, 3, 4] (i.e., four packages to be delivered)\n",
    "# 2. Cities: ['A', 'B', 'C'] (i.e., three cities to deliver packages to)\n",
    "# 3. City Capacity:\n",
    "# ○ 'A': 2 (Can receive up to 2 packages)\n",
    "# ○ 'B': 3 (Can receive up to 3 packages)\n",
    "# ○ 'C': 1 (Can receive only 1 package)\n",
    "# 4. Allowed Cities for Packages:\n",
    "# ○ Package 1: ['A', 'B']\n",
    "# ○ Package 2: ['B', 'C']\n",
    "# ○ Package 3: ['A', 'C']\n",
    "# ○ Package 4: ['A']"
   ]
  },
  {
   "cell_type": "markdown",
   "id": "aa32f6c8",
   "metadata": {},
   "source": []
  },
  {
   "cell_type": "code",
   "execution_count": 3,
   "id": "b064163f",
   "metadata": {},
   "outputs": [
    {
     "name": "stdout",
     "output_type": "stream",
     "text": [
      "{1: 'B', 2: 'B', 3: 'A', 4: 'A', 5: 'B', 6: 'C'}\n"
     ]
    }
   ],
   "source": [
    "variables = [1,2,3,4,5,6]\n",
    "domains = {1 : ['A', 'B'], \n",
    "           2 : ['B', 'C'],\n",
    "           3 : ['A', 'C'],\n",
    "           4 : ['A'],\n",
    "           5 : ['A', 'B'],\n",
    "           6 : ['A', 'C']}\n",
    "constraint = {'A': [0,2],\n",
    "              'B': [0,3],\n",
    "              'C': [0,1]}\n",
    "\n",
    "def evaluate (var, val, domains, constraint, assignment):\n",
    "    check = constraint[val]\n",
    "    return check[0] < check[1]\n",
    "\n",
    "def forwardCheck (variables, val,domains, constraint, assignment):\n",
    "    check = constraint[val]\n",
    "    backup = {}\n",
    "\n",
    "    if check[0] < check[1]:\n",
    "        return True, backup\n",
    "    \n",
    "    else:\n",
    "        for v in variables:\n",
    "            if v not in assignment and val in domains[v]:\n",
    "                domains[v].remove(val)\n",
    "                backup[v] = val\n",
    "        \n",
    "        for var in variables:\n",
    "            if (var not in assignment and len (domains[var]) == 0):\n",
    "                return False, backup\n",
    "            \n",
    "        return True, backup\n",
    "            \n",
    "        \n",
    "\n",
    "\n",
    "\n",
    "def ForwardAlgo (variables, domains, constraint, assignment):\n",
    "    if (len(assignment) == len(variables) ):\n",
    "        return assignment\n",
    "    \n",
    "    var = None\n",
    "    for v in variables:\n",
    "        if v not in assignment:\n",
    "            var = v\n",
    "            break\n",
    "    \n",
    "    for val in domains[var]:\n",
    "        if evaluate (var, val, domains, constraint, assignment):\n",
    "            assignment[var] = val\n",
    "            constraint[val][0] += 1\n",
    "            check , backup = forwardCheck(variables, val, domains, constraint, assignment)\n",
    "            if check:\n",
    "                \n",
    "                result = ForwardAlgo (variables, domains, constraint, assignment)\n",
    "                if result:\n",
    "                    return result\n",
    "            \n",
    "            for key in backup.keys():\n",
    "                domains[key].append(backup[key])\n",
    "            assignment.pop(var)\n",
    "            constraint[val][0] -= 1\n",
    "    return None\n",
    "\n",
    "ass = ForwardAlgo (variables, domains, constraint, {})\n",
    "print (ass)\n"
   ]
  }
 ],
 "metadata": {
  "kernelspec": {
   "display_name": "myenv",
   "language": "python",
   "name": "python3"
  },
  "language_info": {
   "codemirror_mode": {
    "name": "ipython",
    "version": 3
   },
   "file_extension": ".py",
   "mimetype": "text/x-python",
   "name": "python",
   "nbconvert_exporter": "python",
   "pygments_lexer": "ipython3",
   "version": "3.12.7"
  }
 },
 "nbformat": 4,
 "nbformat_minor": 5
}
